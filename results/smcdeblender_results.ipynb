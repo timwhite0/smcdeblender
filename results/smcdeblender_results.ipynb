{
 "cells": [
  {
   "cell_type": "markdown",
   "id": "bffb4a7e",
   "metadata": {},
   "source": [
    "#### Load libraries, set CUDA device, and load results"
   ]
  },
  {
   "cell_type": "code",
   "execution_count": null,
   "id": "fba19ffa-c34a-4e8f-bfa4-637e52cf1b1c",
   "metadata": {},
   "outputs": [],
   "source": [
    "import matplotlib.pyplot as plt\n",
    "import seaborn as sns\n",
    "\n",
    "import torch\n",
    "from torch.distributions import Poisson, Normal, Uniform, Distribution, Categorical\n",
    "\n",
    "import numpy as np\n",
    "import sep"
   ]
  },
  {
   "cell_type": "code",
   "execution_count": null,
   "metadata": {},
   "outputs": [],
   "source": [
    "# torch.cuda.is_available()\n",
    "device = torch.device(\"cuda:0\" if torch.cuda.is_available() else \"cpu\")\n",
    "torch.cuda.set_device(device)"
   ]
  },
  {
   "cell_type": "code",
   "execution_count": null,
   "id": "40c4c8db",
   "metadata": {},
   "outputs": [],
   "source": [
    "# Synthetic images\n",
    "s = torch.load('s.pt', map_location=lambda storage, loc: storage.cuda(device.index))\n",
    "flux = torch.load('flux.pt', map_location=lambda storage, loc: storage.cuda(device.index))\n",
    "u = torch.load('u.pt', map_location=lambda storage, loc: storage.cuda(device.index))\n",
    "true_intensity = torch.load('true_intensity.pt', map_location=lambda storage, loc: storage.cuda(device.index))\n",
    "images = torch.load('images.pt', map_location=lambda storage, loc: storage.cuda(device.index))\n",
    "num_images = images.size(0)\n",
    "D = flux.size(1)\n",
    "\n",
    "# SEP results\n",
    "sep_estimated_s = torch.load('sep_estimated_s.pt', map_location=lambda storage, loc: storage.cuda(device.index))\n",
    "sep_reconstruction = torch.load('sep_reconstruction.pt', map_location=lambda storage, loc: storage.cuda(device.index))\n",
    "\n",
    "# SMC results\n",
    "post_mean_s_smc = torch.load('post_mean_s_smc.pt', map_location=lambda storage, loc: storage.cuda(device.index))\n",
    "prob_s_smc = torch.load('prob_s_smc.pt', map_location=lambda storage, loc: storage.cuda(device.index))\n",
    "num_iters_smc = torch.load('num_iters_smc.pt', map_location=lambda storage, loc: storage.cuda(device.index))\n",
    "reconstruction_smc = torch.load('reconstruction_smc.pt', map_location=lambda storage, loc: storage.cuda(device.index))"
   ]
  },
  {
   "cell_type": "markdown",
   "id": "4c76ac17",
   "metadata": {},
   "source": [
    "----\n",
    "----\n",
    "----"
   ]
  },
  {
   "cell_type": "markdown",
   "id": "84499ba4",
   "metadata": {},
   "source": [
    "#### SEP results"
   ]
  },
  {
   "cell_type": "code",
   "execution_count": null,
   "id": "8006d8c0",
   "metadata": {},
   "outputs": [],
   "source": [
    "sep_prop_correct = ((sep_estimated_s == s).sum()/num_images)\n",
    "sep_mse = ((sep_estimated_s - s)**2).mean()\n",
    "sep_mae = (sep_estimated_s - s).abs().mean()\n",
    "\n",
    "print(\"SEP results:\")\n",
    "print(f\"proportion correct = {sep_prop_correct}\")\n",
    "print(f\"MSE = {sep_mse}\")\n",
    "print(f\"MAE = {sep_mae}\")"
   ]
  },
  {
   "cell_type": "code",
   "execution_count": null,
   "id": "7253f7f2",
   "metadata": {},
   "outputs": [],
   "source": [
    "sep_mean_estimated_s_by_num = torch.zeros(D, device=device)\n",
    "sep_bounds_estimated_s_by_num = torch.zeros(D, 2, device=device)\n",
    "sep_num_correct_by_num = torch.zeros(D, device=device)\n",
    "sep_prop_correct_by_num = torch.zeros(D, device=device)\n",
    "sep_mse_by_num = torch.zeros(D, device=device)\n",
    "sep_mae_by_num = torch.zeros(D, device=device)\n",
    "sep_bounds_mae_by_num = torch.zeros(D, 2, device=device)\n",
    "\n",
    "for num in range(D):\n",
    "    print(f\"true number of sources = {num}\")\n",
    "    sep_mean_estimated_s_by_num[num] = sep_estimated_s[s==num].mean()\n",
    "    print(f\"mean estimated number of sources = {sep_mean_estimated_s_by_num[num].item()}\")\n",
    "    sep_bounds_estimated_s_by_num[num] = sep_estimated_s[s==num].quantile(torch.tensor((0.05, 0.95),device=device))\n",
    "    \n",
    "    sep_mse_by_num[num] = ((sep_estimated_s[s==num] - s[s==num])**2).mean()\n",
    "    print(f\"MSE across {num_images} images = \", sep_mse_by_num[num].item())\n",
    "    \n",
    "    sep_mae_by_num[num] = ((sep_estimated_s[s==num] - s[s==num]).abs()).mean()\n",
    "    print(f\"MAE across {num_images} images = \", sep_mae_by_num[num].item())\n",
    "    sep_bounds_mae_by_num[num] = ((sep_estimated_s[s==num] - s[s==num]).abs()).quantile(torch.tensor((0.05, 0.95),device=device))\n",
    "    \n",
    "    sep_num_correct_by_num[num] = (sep_estimated_s[s==num].round() == s[s==num]).sum()\n",
    "    sep_prop_correct_by_num[num] = sep_num_correct_by_num[num]/(s==num).sum()\n",
    "    print(f\"correct number of sources detected in {sep_num_correct_by_num[num]} of the {(s==num).sum()} images (accuracy = {sep_prop_correct_by_num[num]})\\n\\n\\n\")"
   ]
  },
  {
   "cell_type": "markdown",
   "id": "aa8cd2ac",
   "metadata": {},
   "source": [
    "----\n",
    "----\n",
    "----"
   ]
  },
  {
   "cell_type": "markdown",
   "id": "5241a60e",
   "metadata": {},
   "source": [
    "#### SMC-Deblender results"
   ]
  },
  {
   "cell_type": "code",
   "execution_count": null,
   "id": "b8fc7214",
   "metadata": {},
   "outputs": [],
   "source": [
    "print(f\"MSE across {num_images} images:\", ((post_mean_s_smc - s)**2).mean().item())\n",
    "print(f\"MAE across {num_images} images:\", ((post_mean_s_smc - s).abs()).mean().item())\n",
    "print(f\"correct number of sources detected in {(post_mean_s_smc.round() == s).sum()} of the {num_images} images (accuracy = {(post_mean_s_smc.round() == s).sum()/num_images})\")\n",
    "print(f\"number of iterations: minimum = {num_iters_smc.min().int()}, median = {num_iters_smc.median().int()}, maximum = {num_iters_smc.max().int()}\\n\\n\\n\")\n",
    "\n",
    "for i in range(num_images):\n",
    "    print(f\"image {i+1} of {num_images} took {num_iters_smc[i].int()} iterations:   \",\n",
    "        \"true s =\", s[i].int().item(),\n",
    "        \"   estimated s =\", \"{:.3f}\".format(post_mean_s_smc[i].round(decimals = 4).item()),\n",
    "        \"   absolute error:\", \"{:.3f}\".format((post_mean_s_smc[i] - s[i]).abs().item()),\n",
    "        \"   total flux:\", flux[i].sum().round().int().item())"
   ]
  },
  {
   "cell_type": "code",
   "execution_count": null,
   "id": "07bf1cd4",
   "metadata": {},
   "outputs": [],
   "source": [
    "smc_mean_post_mean_s_by_num = torch.zeros(D, device=device)\n",
    "smc_bounds_post_mean_s_by_num = torch.zeros(D, 2, device=device)\n",
    "smc_num_correct_by_num = torch.zeros(D, device=device)\n",
    "smc_prop_correct_by_num = torch.zeros(D, device=device)\n",
    "smc_mse_by_num = torch.zeros(D, device=device)\n",
    "smc_mae_by_num = torch.zeros(D, device=device)\n",
    "smc_bounds_mae_by_num = torch.zeros(D, 2, device=device)\n",
    "\n",
    "for num in range(D):\n",
    "    print(f\"true number of sources = {num}\")\n",
    "    \n",
    "    smc_mean_post_mean_s_by_num[num] = post_mean_s_smc[s==num].mean()\n",
    "    print(f\"estimated number of sources for images where s = {num}:\", smc_mean_post_mean_s_by_num[num].item())\n",
    "    smc_bounds_post_mean_s_by_num[num] = post_mean_s_smc[s==num].quantile(torch.tensor((0.05, 0.95),device=device))\n",
    "    \n",
    "    smc_mse_by_num[num] = ((post_mean_s_smc[s==num] - s[s==num])**2).mean()\n",
    "    print(f\"MSE across {(s==num).sum()} images:\", (smc_mse_by_num[num].item()))\n",
    "    \n",
    "    smc_mae_by_num[num] = ((post_mean_s_smc[s==num] - s[s==num]).abs()).mean()\n",
    "    print(f\"MAE across {(s==num).sum()} images:\", (smc_mae_by_num[num].item()))\n",
    "    smc_bounds_mae_by_num[num] = ((post_mean_s_smc[s==num] - s[s==num]).abs()).quantile(torch.tensor((0.05, 0.95),device=device))\n",
    "    \n",
    "    smc_num_correct_by_num[num] = (post_mean_s_smc[s==num].round() == s[s==num]).sum()\n",
    "    smc_prop_correct_by_num[num] = smc_num_correct_by_num[num]/(s==num).sum()\n",
    "    print(f\"correct number of sources detected in {smc_num_correct_by_num[num].int()} of the {(s==num).sum()} images (accuracy = {smc_prop_correct_by_num[num]})\")\n",
    "    \n",
    "    print(f\"number of iterations: minimum = {num_iters_smc[s==num].min().int()}, median = {num_iters_smc[s==num].median().int()}, maximum = {num_iters_smc[s==num].max().int()}\\n\")"
   ]
  },
  {
   "cell_type": "markdown",
   "id": "6a4fc760",
   "metadata": {},
   "source": [
    "----\n",
    "----\n",
    "----"
   ]
  },
  {
   "cell_type": "markdown",
   "id": "40cc149b",
   "metadata": {},
   "source": [
    "#### Bootstrap percentile CIs for panel (a) of figure 1"
   ]
  },
  {
   "cell_type": "code",
   "execution_count": null,
   "id": "04d4ecda",
   "metadata": {},
   "outputs": [],
   "source": [
    "torch.manual_seed(0)\n",
    "\n",
    "### SMC\n",
    "num_boot_samples = 10000\n",
    "smc_bounds_prop_correct_by_num = torch.zeros(D, 2, device=device)\n",
    "\n",
    "for num in range(D):\n",
    "    boot_orig = torch.stack((post_mean_s_smc[s==num].round(), s[s==num]), dim = 1)\n",
    "    boot_prop_correct = torch.zeros(num_boot_samples, device=device)\n",
    "    \n",
    "    for j in range(num_boot_samples):\n",
    "        boot_sample = boot_orig[(torch.multinomial(torch.arange(boot_orig.size(0)).double(), num_samples = boot_orig.size(0), replacement = True))]\n",
    "        boot_prop_correct[j] = (boot_sample[:,0] == boot_sample[:,1]).sum()/boot_orig.size(0)\n",
    "    \n",
    "    smc_bounds_prop_correct_by_num[num] = boot_prop_correct.quantile(torch.tensor((0.05, 0.95),device=device))\n",
    "\n",
    "### SEP\n",
    "sep_bounds_prop_correct_by_num = torch.zeros(D, 2, device=device)\n",
    "\n",
    "for num in range(D):\n",
    "    boot_orig = torch.stack((sep_estimated_s[s==num].round(), s[s==num]), dim = 1)\n",
    "    boot_prop_correct = torch.zeros(num_boot_samples, device=device)\n",
    "    \n",
    "    for j in range(num_boot_samples):\n",
    "        boot_sample = boot_orig[(torch.multinomial(torch.arange(boot_orig.size(0)).double(), num_samples = boot_orig.size(0), replacement = True))]\n",
    "        boot_prop_correct[j] = (boot_sample[:,0] == boot_sample[:,1]).sum()/boot_orig.size(0)\n",
    "    \n",
    "    sep_bounds_prop_correct_by_num[num] = boot_prop_correct.quantile(torch.tensor((0.05, 0.95),device=device))"
   ]
  },
  {
   "cell_type": "markdown",
   "id": "76fd2076",
   "metadata": {},
   "source": [
    "----\n",
    "----\n",
    "----"
   ]
  },
  {
   "cell_type": "markdown",
   "id": "43310d46",
   "metadata": {},
   "source": [
    "#### Figure 1"
   ]
  },
  {
   "cell_type": "code",
   "execution_count": null,
   "id": "a1267218",
   "metadata": {},
   "outputs": [],
   "source": [
    "torch.manual_seed(100)\n",
    "\n",
    "# Plot true intensities vs observed intensities vs SMC reconstruction\n",
    "example_image_indexes = [torch.arange(num_images,device=device)[s==2][torch.randint(low=0, high=(s==2).sum(), size=(1,))].item(),\n",
    "                         torch.arange(num_images,device=device)[s==4][torch.randint(low=0, high=(s==4).sum(), size=(1,))].item(),\n",
    "                         torch.arange(num_images,device=device)[s==6][torch.randint(low=0, high=(s==6).sum(), size=(1,))].item(),\n",
    "                         torch.arange(num_images,device=device)[s==8][torch.randint(low=0, high=(s==8).sum(), size=(1,))].item(),\n",
    "                         torch.arange(num_images,device=device)[s==10][torch.randint(low=0, high=(s==10).sum(), size=(1,))].item()]\n",
    "fig1_s = s[example_image_indexes]\n",
    "fig1_true = true_intensity[example_image_indexes]\n",
    "fig1_observed = images[example_image_indexes]\n",
    "fig1_smc = reconstruction_smc[example_image_indexes]\n",
    "fig1_sep = sep_reconstruction[example_image_indexes]\n",
    "\n",
    "fig1,method = plt.subplots(nrows = 4, ncols = 5, sharex = True, sharey = True)\n",
    "fig1.tight_layout(h_pad = -0.5, w_pad = -0.5)\n",
    "\n",
    "for i in range(5):\n",
    "    _ = method[0,i].imshow(fig1_true[i].cpu())\n",
    "    _ = method[0,i].set_xlabel(f\"s = {fig1_s[i].int()}\", fontsize = 8)\n",
    "    _ = method[0,i].xaxis.set_label_position(\"top\")\n",
    "    _ = method[0,i].set_xticks([])\n",
    "    _ = method[0,i].set_yticks([])\n",
    "\n",
    "    _ = method[1,i].imshow(fig1_observed[i].cpu())\n",
    "    _ = method[1,i].set_xticks([])\n",
    "    _ = method[1,i].set_yticks([])\n",
    "\n",
    "    _ = method[2,i].imshow(fig1_smc[i].cpu())\n",
    "    _ = method[2,i].set_xticks([])\n",
    "    _ = method[2,i].set_yticks([])\n",
    "\n",
    "    _ = method[3,i].imshow(fig1_sep[i].cpu())\n",
    "    _ = method[3,i].set_xticks([])\n",
    "    _ = method[3,i].set_yticks([])\n",
    "\n",
    "_ = method[0,0].set_ylabel(\"True\", loc = \"center\", fontsize = 8)\n",
    "_ = method[1,0].set_ylabel(\"Observed\", loc = \"center\", fontsize = 8)\n",
    "_ = method[2,0].set_ylabel(\"SMC-Deblender\", loc = \"center\", fontsize = 8)\n",
    "_ = method[3,0].set_ylabel(\"SEP\", loc = \"center\", fontsize = 8)\n",
    "\n",
    "fig1.subplots_adjust(wspace=-0.5)\n",
    "fig1.savefig('fig1.png', dpi=500)"
   ]
  },
  {
   "cell_type": "markdown",
   "id": "d7b2176c",
   "metadata": {},
   "source": [
    "----\n",
    "----\n",
    "----"
   ]
  },
  {
   "cell_type": "markdown",
   "id": "5d19c666",
   "metadata": {},
   "source": [
    "#### Figure 2"
   ]
  },
  {
   "cell_type": "code",
   "execution_count": null,
   "id": "842fd891",
   "metadata": {},
   "outputs": [],
   "source": [
    "dot_size = 75\n",
    "line_width = 2\n",
    "text_size = 16\n",
    "sep_color = \"darkred\"\n",
    "smc_color = \"darkblue\"\n",
    "\n",
    "fig2, (fig2a,fig2b,fig2c) = plt.subplots(nrows = 1, ncols = 3, figsize = (15,4))\n",
    "fig2.tight_layout(w_pad = 5)\n",
    "\n",
    "_ = fig2a.plot(torch.arange(D), sep_prop_correct_by_num.cpu(), label = \"SEP\", color = sep_color, linewidth = line_width)\n",
    "_ = fig2a.scatter(torch.arange(D), sep_prop_correct_by_num.cpu(), color = sep_color, s = dot_size)\n",
    "_ = fig2a.fill_between(torch.arange(D), sep_bounds_prop_correct_by_num[:,0].cpu(), sep_bounds_prop_correct_by_num[:,1].cpu(), color = sep_color, alpha = 0.1)\n",
    "_ = fig2a.plot(torch.arange(D), smc_prop_correct_by_num.cpu(), label = \"SMC-Deblender\", color = smc_color, linewidth = line_width)\n",
    "_ = fig2a.scatter(torch.arange(D), smc_prop_correct_by_num.cpu(), color = smc_color, s = dot_size)\n",
    "_ = fig2a.fill_between(torch.arange(D), smc_bounds_prop_correct_by_num[:,0].cpu(), smc_bounds_prop_correct_by_num[:,1].cpu(), color = smc_color, alpha = 0.1)\n",
    "_ = fig2a.legend(ncol=2, fancybox=True, loc=\"upper center\", bbox_to_anchor=(0.5,1.155), fontsize = text_size)\n",
    "_ = fig2a.tick_params(axis = \"both\", labelsize = text_size)\n",
    "_ = fig2a.set_xlabel(\"True number of sources\", fontsize = text_size)\n",
    "_ = fig2a.set_ylabel(\"Classification accuracy\", fontsize = text_size)\n",
    "\n",
    "_ = fig2b.plot(torch.arange(D), sep_mean_estimated_s_by_num.cpu(), color = sep_color, label = \"SEP\", linewidth = line_width)\n",
    "_ = fig2b.scatter(torch.arange(D), sep_mean_estimated_s_by_num.cpu(), color = sep_color, s = dot_size)\n",
    "_ = fig2b.fill_between(torch.arange(D), sep_bounds_estimated_s_by_num[:,0].cpu(), sep_bounds_estimated_s_by_num[:,1].cpu(), color = sep_color, alpha = 0.1)\n",
    "_ = fig2b.plot(torch.arange(D), smc_mean_post_mean_s_by_num.cpu(), color = smc_color, label = \"SMC-Deblender\", linewidth = line_width)\n",
    "_ = fig2b.scatter(torch.arange(D), smc_mean_post_mean_s_by_num.cpu(), color = smc_color, s = dot_size)\n",
    "_ = fig2b.fill_between(torch.arange(D), smc_bounds_post_mean_s_by_num[:,0].cpu(), smc_bounds_post_mean_s_by_num[:,1].cpu(), color = smc_color, alpha = 0.1)\n",
    "_ = fig2b.plot(torch.arange(D), torch.arange(D), \":\", color=\"black\", linewidth = line_width)\n",
    "_ = fig2b.legend(ncol=2, fancybox=True, loc=\"upper center\", bbox_to_anchor=(0.5,1.155), fontsize = text_size)\n",
    "_ = fig2b.tick_params(axis = \"both\", labelsize = text_size)\n",
    "_ = fig2b.set_xlabel(\"True number of sources\", fontsize = text_size)\n",
    "_ = fig2b.set_ylabel(\"Estimated number of sources\", fontsize = text_size)\n",
    "\n",
    "_ = fig2c.plot(torch.arange(D), (sep_mae_by_num + smc_mae_by_num[0]).cpu(), label = \"SEP\", color = sep_color, linewidth = line_width)\n",
    "_ = fig2c.scatter(torch.arange(D), sep_mae_by_num.cpu(), color = sep_color, s = dot_size)\n",
    "_ = fig2c.fill_between(torch.arange(D), sep_bounds_mae_by_num[:,0].cpu(), sep_bounds_mae_by_num[:,1].cpu(), color = sep_color, alpha = 0.1)\n",
    "_ = fig2c.plot(torch.arange(D), (smc_mae_by_num).cpu(), label = \"SMC-Deblender\", color = smc_color, linewidth = line_width)\n",
    "_ = fig2c.scatter(torch.arange(D), smc_mae_by_num.cpu(), color = smc_color, s = dot_size)\n",
    "_ = fig2c.fill_between(torch.arange(D), smc_bounds_mae_by_num[:,0].cpu(), smc_bounds_mae_by_num[:,1].cpu(), color = smc_color, alpha = 0.1)\n",
    "_ = fig2c.legend(ncol=2, fancybox=True, loc=\"upper center\", bbox_to_anchor=(0.5,1.155), fontsize = text_size)\n",
    "_ = fig2c.tick_params(axis = \"both\", labelsize = text_size)\n",
    "_ = fig2c.set_xlabel(\"True number of sources\", fontsize = text_size)\n",
    "_ = fig2c.set_ylabel(\"Mean absolute error\", fontsize = text_size)\n",
    "\n",
    "fig2.savefig('fig2.png', bbox_inches = \"tight\", dpi = 500)"
   ]
  }
 ],
 "metadata": {
  "kernelspec": {
   "display_name": "Python 3 (ipykernel)",
   "language": "python",
   "name": "python3"
  },
  "language_info": {
   "codemirror_mode": {
    "name": "ipython",
    "version": 3
   },
   "file_extension": ".py",
   "mimetype": "text/x-python",
   "name": "python",
   "nbconvert_exporter": "python",
   "pygments_lexer": "ipython3",
   "version": "3.10.12"
  }
 },
 "nbformat": 4,
 "nbformat_minor": 5
}
